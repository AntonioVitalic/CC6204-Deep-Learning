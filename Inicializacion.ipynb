{
  "cells": [
    {
      "cell_type": "code",
      "execution_count": 2,
      "metadata": {
        "id": "yr2uMIEbftg5"
      },
      "outputs": [],
      "source": [
        "import torch"
      ]
    },
    {
      "cell_type": "code",
      "execution_count": null,
      "metadata": {
        "id": "5pJRVGj3f8u7"
      },
      "outputs": [],
      "source": [
        "#Sea x una entrada de dimensión 512 con distribución N(0,1)\n",
        "# Media: 0\n",
        "# Varianza: 1\n",
        "\n",
        "x = torch.randn(512)\n",
        "\n",
        "#Simular la pasada forward de la entrada con 100 capas lineales\n",
        "#Las capas tienen 512 neuronas cada una\n",
        "\n",
        "for i in range(100):\n",
        "    w = torch.randn(512,512)\n",
        "    x = w @ x\n",
        "x.mean(), x.std()\n",
        "\n",
        "#Media y desviación del resultado explotan"
      ]
    },
    {
      "cell_type": "code",
      "execution_count": null,
      "metadata": {
        "id": "aiLqD4PegAjx"
      },
      "outputs": [],
      "source": [
        "# En qué capa sucede la explosión?\n",
        "\n",
        "x = torch.randn(512)\n",
        "\n",
        "for i in range(100):\n",
        "    a = torch.randn(512,512)\n",
        "    x = a @ x\n",
        "    if torch.isnan(x.std()): break\n",
        "\n",
        "print(i)\n",
        "\n",
        "#Entrada es pequeña, la única razón para la explosión es que los pesos son muy grandes"
      ]
    },
    {
      "cell_type": "code",
      "execution_count": null,
      "metadata": {
        "id": "BE14vqoigD_R"
      },
      "outputs": [],
      "source": [
        "#Podemos vernos tentados a reducir los pesos para evitar la explosión\n",
        "# Escalamos los pesos por algún factor\n",
        "\n",
        "x = torch.randn(512)\n",
        "\n",
        "for i in range(100):\n",
        "    a = torch.randn(512,512) * 0.01\n",
        "    x = a @ x\n",
        "x.mean(), x.std()\n",
        "\n",
        "# Ahora la media y la desviación se fueron a cero"
      ]
    },
    {
      "cell_type": "code",
      "execution_count": null,
      "metadata": {
        "id": "LUC7c8FDgKjh"
      },
      "outputs": [],
      "source": [
        "#Cuál es el promedio y desviación estándar de multiplicar un vector de 512 dimensiones y una matriz 512x512?\n",
        "# Ambos en N(0,1)\n",
        "\n",
        "#Ejecutamos 10000 multiplicaciones, y promediamos los resultados\n",
        "\n",
        "import math\n",
        "\n",
        "mean, var = 0.,0.\n",
        "for i in range(10000):\n",
        "    x = torch.randn(512)\n",
        "    a = torch.randn(512,512)\n",
        "    y = a @ x\n",
        "    mean += y.mean().item()\n",
        "    var += y.pow(2).mean().item()\n",
        "mean/10000, math.sqrt(var/10000)"
      ]
    },
    {
      "cell_type": "code",
      "execution_count": null,
      "metadata": {
        "id": "jFH1y85WgVU4"
      },
      "outputs": [],
      "source": [
        "#La desviación es muy similar a la raiz cuadrada de la dimension del vector de entrada\n",
        "\n",
        "math.sqrt(512)"
      ]
    },
    {
      "cell_type": "code",
      "execution_count": null,
      "metadata": {
        "id": "t-GC3Tw8goRb"
      },
      "outputs": [],
      "source": [
        "#El producto de dos números en distribucipón N(0,1) es siempre un número en la misma distribución\n",
        "\n",
        "mean, var = 0.,0.\n",
        "for i in range(10000):\n",
        "    x = torch.randn(1)\n",
        "    a = torch.randn(1)\n",
        "    y = a*x\n",
        "    mean += y.item()\n",
        "    var += y.pow(2).item()\n",
        "mean/10000, math.sqrt(var/10000)\n"
      ]
    },
    {
      "cell_type": "code",
      "execution_count": null,
      "metadata": {
        "id": "BKc_2u8agv7H"
      },
      "outputs": [],
      "source": [
        "#La varianza promedio debe estar en el orden de 1/512\n",
        "mean, var = 0.,0.\n",
        "for i in range(10000):\n",
        "    x = torch.randn(1)\n",
        "    a = torch.randn(1)*math.sqrt(1./512)\n",
        "    y = a*x\n",
        "    mean += y.item()\n",
        "    var += y.pow(2).item()\n",
        "mean/10000, var/10000"
      ]
    },
    {
      "cell_type": "code",
      "execution_count": null,
      "metadata": {
        "id": "PWCbW4LbC7dW"
      },
      "outputs": [],
      "source": [
        "1/512"
      ]
    },
    {
      "cell_type": "code",
      "execution_count": null,
      "metadata": {
        "id": "Lu6by5wRgzPa"
      },
      "outputs": [],
      "source": [
        "#Así que deberíamos usar sqrt(1/512) para escalar los pesos\n",
        "\n",
        "mean, var = 0.,0.\n",
        "for i in range(10000):\n",
        "    x = torch.randn(512)\n",
        "    a = torch.randn(512,512)*math.sqrt(1./512)\n",
        "    y = a @ x\n",
        "    mean += y.mean().item()\n",
        "    var += y.pow(2).mean().item()\n",
        "mean/10000, math.sqrt(var/10000)"
      ]
    },
    {
      "cell_type": "code",
      "execution_count": null,
      "metadata": {
        "id": "jgzWvKxyhA6P"
      },
      "outputs": [],
      "source": [
        "#Probemos en nuestra red neuronal simulada\n",
        "\n",
        "x = torch.randn(512)\n",
        "\n",
        "for i in range(100):\n",
        "    a = torch.randn(512,512) * math.sqrt(1./512)\n",
        "    x = a @ x\n",
        "x.mean(), x.std()\n",
        "\n",
        "#Las salidas no explotan ni se desvanecen"
      ]
    },
    {
      "cell_type": "code",
      "execution_count": 13,
      "metadata": {
        "id": "yOI_874HhQuu"
      },
      "outputs": [],
      "source": [
        "#Hasta ahora no hemos utilizado funciones de activación.\n",
        "#Veamos que pasa si aplicamos una función de activación\n",
        "#TANH a nuestro modelo basico de red neuronal\n",
        "\n",
        "def tanh(x): return torch.tanh(x)"
      ]
    },
    {
      "cell_type": "code",
      "execution_count": null,
      "metadata": {
        "id": "e60Jv62FEEpM"
      },
      "outputs": [],
      "source": [
        "x = torch.randn(512)\n",
        "\n",
        "for i in range(100):\n",
        "    a = torch.randn(512,512) * math.sqrt(1./512)\n",
        "    x = tanh(a @ x)\n",
        "x.mean(), x.std()"
      ]
    },
    {
      "cell_type": "code",
      "execution_count": null,
      "metadata": {
        "id": "Zt53e08kEH7o"
      },
      "outputs": [],
      "source": [
        "x = torch.randn(512)\n",
        "\n",
        "for i in range(100):\n",
        "    a = torch.Tensor(512,512).uniform_(-1, 1) * math.sqrt(1./512)\n",
        "    x = tanh(a @ x)\n",
        "x.mean(), x.std()"
      ]
    },
    {
      "cell_type": "code",
      "execution_count": null,
      "metadata": {
        "id": "unBp6GCeEoTP"
      },
      "outputs": [],
      "source": [
        "#Glorot y Bengio propusieron una nueva inicialización\n",
        "def xavier(m,h):\n",
        "    return torch.Tensor(m, h).uniform_(-1, 1)*math.sqrt(6./(m+h))\n",
        "\n",
        "x = torch.randn(512)\n",
        "\n",
        "for i in range(100):\n",
        "    a = xavier(512, 512)\n",
        "    x = tanh(a @ x)\n",
        "x.mean(), x.std()"
      ]
    },
    {
      "cell_type": "code",
      "execution_count": 17,
      "metadata": {
        "id": "tttsh6KTFWBH"
      },
      "outputs": [],
      "source": [
        "#Pero que pasa cuando la función de activación es RELU?\n",
        "def relu(x): return x.clamp_min(0.)"
      ]
    },
    {
      "cell_type": "code",
      "execution_count": null,
      "metadata": {
        "id": "pAziFtMWGYJB"
      },
      "outputs": [],
      "source": [
        "mean, var = 0.,0.\n",
        "for i in range(10000):\n",
        "    x = torch.randn(512)\n",
        "    a = torch.randn(512,512)\n",
        "    y = relu(a @ x)\n",
        "    mean += y.mean().item()\n",
        "    var += y.pow(2).mean().item()\n",
        "mean/10000, math.sqrt(var/10000)"
      ]
    },
    {
      "cell_type": "code",
      "execution_count": null,
      "metadata": {
        "id": "2sk9AFqPGau0"
      },
      "outputs": [],
      "source": [
        "#Desviación estándar es cernaca a sqrt(512)/sqrt(2)\n",
        "math.sqrt(512/2)"
      ]
    },
    {
      "cell_type": "code",
      "execution_count": null,
      "metadata": {
        "id": "WU_S41AaHlEo"
      },
      "outputs": [],
      "source": [
        "mean, var = 0.,0.\n",
        "for i in range(10000):\n",
        "    x = torch.randn(512)\n",
        "    a = torch.randn(512,512)*math.sqrt(2/512)\n",
        "    y = relu(a @ x)\n",
        "    mean += y.mean().item()\n",
        "    var += y.pow(2).mean().item()\n",
        "mean/10000, math.sqrt(var/10000)"
      ]
    },
    {
      "cell_type": "code",
      "execution_count": null,
      "metadata": {
        "id": "BXWs2xEaHwP-"
      },
      "outputs": [],
      "source": [
        "def kaiming(m,h):\n",
        "  return torch.randn(m,h)*math.sqrt(2./m)\n",
        "\n",
        "x = torch.randn(512)\n",
        "\n",
        "for i in range(100):\n",
        "  a = kaiming(512, 512)\n",
        "  x = relu(a @ x)\n",
        "\n",
        "x.mean(), x.std()"
      ]
    },
    {
      "cell_type": "code",
      "execution_count": null,
      "metadata": {
        "id": "lUdXELOeIsNl"
      },
      "outputs": [],
      "source": [
        "#Xavier con RELU?\n",
        "\n",
        "x = torch.randn(512)\n",
        "\n",
        "for i in range(100):\n",
        "  a = xavier(512, 512)\n",
        "  x = relu(a @ x)\n",
        "\n",
        "x.mean(), x.std()"
      ]
    },
    {
      "cell_type": "code",
      "execution_count": null,
      "metadata": {
        "id": "M3OCG_47JACG"
      },
      "outputs": [],
      "source": []
    }
  ],
  "metadata": {
    "accelerator": "GPU",
    "colab": {
      "provenance": []
    },
    "kernelspec": {
      "display_name": "Python 3",
      "name": "python3"
    }
  },
  "nbformat": 4,
  "nbformat_minor": 0
}