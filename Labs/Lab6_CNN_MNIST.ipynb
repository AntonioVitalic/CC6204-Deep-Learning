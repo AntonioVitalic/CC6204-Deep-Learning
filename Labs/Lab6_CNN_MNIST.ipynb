{
  "nbformat": 4,
  "nbformat_minor": 0,
  "metadata": {
    "colab": {
      "provenance": []
    },
    "kernelspec": {
      "name": "python3",
      "display_name": "Python 3"
    },
    "accelerator": "GPU"
  },
  "cells": [
    {
      "cell_type": "code",
      "metadata": {
        "id": "bQ6ZFQewWCZ1",
        "outputId": "fb06a837-4f46-464d-e477-b5e258f93f8c",
        "colab": {
          "base_uri": "https://localhost:8080/"
        }
      },
      "source": [
        "import torch\n",
        "import torch.nn as nn\n",
        "import torchvision\n",
        "import torchvision.transforms as transforms\n",
        "\n",
        "device = torch.device('cuda' if torch.cuda.is_available() else 'cpu')\n",
        "print(device)"
      ],
      "execution_count": 1,
      "outputs": [
        {
          "output_type": "stream",
          "name": "stdout",
          "text": [
            "cuda\n"
          ]
        }
      ]
    },
    {
      "cell_type": "code",
      "metadata": {
        "id": "ayJ3FSUaWSgN",
        "outputId": "4ecdd3b7-505f-4275-c455-43a0bbbf8618",
        "colab": {
          "base_uri": "https://localhost:8080/"
        }
      },
      "source": [
        "# Hyper-parameters\n",
        "input_size = 784\n",
        "num_classes = 10\n",
        "num_epochs = 5\n",
        "batch_size_train = 64\n",
        "batch_size_test = 1000\n",
        "momentum = 0.9\n",
        "log_interval = 100\n",
        "learning_rate=0.001\n",
        "\n",
        "# MNIST dataset\n",
        "train_dataset = torchvision.datasets.MNIST(root='data',\n",
        "                    train=True,\n",
        "                    transform=transforms.Compose([transforms.ToTensor(), transforms.Normalize((0.5,),(0.5,))]),\n",
        "                    download=True)\n",
        "\n",
        "test_dataset = torchvision.datasets.MNIST(root='data',\n",
        "                                          train=False,\n",
        "                                          transform=transforms.Compose([transforms.ToTensor(), transforms.Normalize((0.5,),(0.5,))]))\n",
        "\n",
        "\n",
        "# Data loader\n",
        "train_loader = torch.utils.data.DataLoader(dataset=train_dataset,\n",
        "                                           batch_size=batch_size_train,\n",
        "                                           shuffle=True)\n",
        "\n",
        "test_loader = torch.utils.data.DataLoader(dataset=test_dataset,\n",
        "                                          batch_size=batch_size_test,\n",
        "                                          shuffle=False)"
      ],
      "execution_count": 2,
      "outputs": [
        {
          "output_type": "stream",
          "name": "stdout",
          "text": [
            "Downloading http://yann.lecun.com/exdb/mnist/train-images-idx3-ubyte.gz\n",
            "Downloading http://yann.lecun.com/exdb/mnist/train-images-idx3-ubyte.gz to data/MNIST/raw/train-images-idx3-ubyte.gz\n"
          ]
        },
        {
          "output_type": "stream",
          "name": "stderr",
          "text": [
            "100%|██████████| 9912422/9912422 [00:00<00:00, 379184743.89it/s]"
          ]
        },
        {
          "output_type": "stream",
          "name": "stdout",
          "text": [
            "Extracting data/MNIST/raw/train-images-idx3-ubyte.gz to data/MNIST/raw\n"
          ]
        },
        {
          "output_type": "stream",
          "name": "stderr",
          "text": [
            "\n"
          ]
        },
        {
          "output_type": "stream",
          "name": "stdout",
          "text": [
            "\n",
            "Downloading http://yann.lecun.com/exdb/mnist/train-labels-idx1-ubyte.gz\n",
            "Downloading http://yann.lecun.com/exdb/mnist/train-labels-idx1-ubyte.gz to data/MNIST/raw/train-labels-idx1-ubyte.gz\n"
          ]
        },
        {
          "output_type": "stream",
          "name": "stderr",
          "text": [
            "100%|██████████| 28881/28881 [00:00<00:00, 29595820.63it/s]\n"
          ]
        },
        {
          "output_type": "stream",
          "name": "stdout",
          "text": [
            "Extracting data/MNIST/raw/train-labels-idx1-ubyte.gz to data/MNIST/raw\n",
            "\n",
            "Downloading http://yann.lecun.com/exdb/mnist/t10k-images-idx3-ubyte.gz\n",
            "Downloading http://yann.lecun.com/exdb/mnist/t10k-images-idx3-ubyte.gz to data/MNIST/raw/t10k-images-idx3-ubyte.gz\n"
          ]
        },
        {
          "output_type": "stream",
          "name": "stderr",
          "text": [
            "100%|██████████| 1648877/1648877 [00:00<00:00, 183299533.44it/s]\n"
          ]
        },
        {
          "output_type": "stream",
          "name": "stdout",
          "text": [
            "Extracting data/MNIST/raw/t10k-images-idx3-ubyte.gz to data/MNIST/raw\n",
            "\n",
            "Downloading http://yann.lecun.com/exdb/mnist/t10k-labels-idx1-ubyte.gz\n",
            "Downloading http://yann.lecun.com/exdb/mnist/t10k-labels-idx1-ubyte.gz to data/MNIST/raw/t10k-labels-idx1-ubyte.gz\n"
          ]
        },
        {
          "output_type": "stream",
          "name": "stderr",
          "text": [
            "100%|██████████| 4542/4542 [00:00<00:00, 10016050.88it/s]"
          ]
        },
        {
          "output_type": "stream",
          "name": "stdout",
          "text": [
            "Extracting data/MNIST/raw/t10k-labels-idx1-ubyte.gz to data/MNIST/raw\n",
            "\n"
          ]
        },
        {
          "output_type": "stream",
          "name": "stderr",
          "text": [
            "\n"
          ]
        }
      ]
    },
    {
      "cell_type": "code",
      "metadata": {
        "id": "YZaybMsk-Lpw",
        "outputId": "c2dcca85-0a16-40a6-ee98-083d580cc222",
        "colab": {
          "base_uri": "https://localhost:8080/"
        }
      },
      "source": [
        "batch = next(enumerate(train_loader))\n",
        "print(batch)"
      ],
      "execution_count": 3,
      "outputs": [
        {
          "output_type": "stream",
          "name": "stdout",
          "text": [
            "(0, [tensor([[[[-1., -1., -1.,  ..., -1., -1., -1.],\n",
            "          [-1., -1., -1.,  ..., -1., -1., -1.],\n",
            "          [-1., -1., -1.,  ..., -1., -1., -1.],\n",
            "          ...,\n",
            "          [-1., -1., -1.,  ..., -1., -1., -1.],\n",
            "          [-1., -1., -1.,  ..., -1., -1., -1.],\n",
            "          [-1., -1., -1.,  ..., -1., -1., -1.]]],\n",
            "\n",
            "\n",
            "        [[[-1., -1., -1.,  ..., -1., -1., -1.],\n",
            "          [-1., -1., -1.,  ..., -1., -1., -1.],\n",
            "          [-1., -1., -1.,  ..., -1., -1., -1.],\n",
            "          ...,\n",
            "          [-1., -1., -1.,  ..., -1., -1., -1.],\n",
            "          [-1., -1., -1.,  ..., -1., -1., -1.],\n",
            "          [-1., -1., -1.,  ..., -1., -1., -1.]]],\n",
            "\n",
            "\n",
            "        [[[-1., -1., -1.,  ..., -1., -1., -1.],\n",
            "          [-1., -1., -1.,  ..., -1., -1., -1.],\n",
            "          [-1., -1., -1.,  ..., -1., -1., -1.],\n",
            "          ...,\n",
            "          [-1., -1., -1.,  ..., -1., -1., -1.],\n",
            "          [-1., -1., -1.,  ..., -1., -1., -1.],\n",
            "          [-1., -1., -1.,  ..., -1., -1., -1.]]],\n",
            "\n",
            "\n",
            "        ...,\n",
            "\n",
            "\n",
            "        [[[-1., -1., -1.,  ..., -1., -1., -1.],\n",
            "          [-1., -1., -1.,  ..., -1., -1., -1.],\n",
            "          [-1., -1., -1.,  ..., -1., -1., -1.],\n",
            "          ...,\n",
            "          [-1., -1., -1.,  ..., -1., -1., -1.],\n",
            "          [-1., -1., -1.,  ..., -1., -1., -1.],\n",
            "          [-1., -1., -1.,  ..., -1., -1., -1.]]],\n",
            "\n",
            "\n",
            "        [[[-1., -1., -1.,  ..., -1., -1., -1.],\n",
            "          [-1., -1., -1.,  ..., -1., -1., -1.],\n",
            "          [-1., -1., -1.,  ..., -1., -1., -1.],\n",
            "          ...,\n",
            "          [-1., -1., -1.,  ..., -1., -1., -1.],\n",
            "          [-1., -1., -1.,  ..., -1., -1., -1.],\n",
            "          [-1., -1., -1.,  ..., -1., -1., -1.]]],\n",
            "\n",
            "\n",
            "        [[[-1., -1., -1.,  ..., -1., -1., -1.],\n",
            "          [-1., -1., -1.,  ..., -1., -1., -1.],\n",
            "          [-1., -1., -1.,  ..., -1., -1., -1.],\n",
            "          ...,\n",
            "          [-1., -1., -1.,  ..., -1., -1., -1.],\n",
            "          [-1., -1., -1.,  ..., -1., -1., -1.],\n",
            "          [-1., -1., -1.,  ..., -1., -1., -1.]]]]), tensor([3, 2, 5, 0, 9, 0, 1, 2, 2, 5, 3, 6, 4, 2, 8, 7, 5, 0, 5, 7, 5, 1, 6, 5,\n",
            "        8, 7, 0, 4, 9, 6, 8, 4, 7, 1, 9, 4, 2, 9, 3, 8, 2, 8, 9, 9, 1, 5, 2, 4,\n",
            "        1, 0, 9, 0, 7, 6, 3, 6, 1, 9, 6, 5, 2, 5, 3, 6])])\n"
          ]
        }
      ]
    },
    {
      "cell_type": "code",
      "metadata": {
        "id": "uLqLdQcPy5JF",
        "outputId": "78e85256-5df2-4405-a859-846a0d6f896a",
        "colab": {
          "base_uri": "https://localhost:8080/",
          "height": 515
        }
      },
      "source": [
        "examples = enumerate(test_loader)\n",
        "\n",
        "batchId, (exampleData, exampleTargets) = next(examples) #Next batch\n",
        "print('Numero de batch: {}'.format(batchId))\n",
        "print(exampleData.shape)\n",
        "print(exampleTargets.shape)\n",
        "\n",
        "import matplotlib.pyplot as plt\n",
        "\n",
        "#Show the first 6 elements in the batch\n",
        "plt.figure()\n",
        "for i in range(16):\n",
        "  plt.subplot(4, 4, i+1)\n",
        "  plt.tight_layout()\n",
        "  plt.imshow(exampleData[i][0], cmap='gray', interpolation='none')\n",
        "  plt.title('Groundtruth: {}'.format(exampleTargets[i]))\n",
        "  plt.xticks([])\n",
        "  plt.yticks([])"
      ],
      "execution_count": 4,
      "outputs": [
        {
          "output_type": "stream",
          "name": "stdout",
          "text": [
            "Numero de batch: 0\n",
            "torch.Size([1000, 1, 28, 28])\n",
            "torch.Size([1000])\n"
          ]
        },
        {
          "output_type": "display_data",
          "data": {
            "text/plain": [
              "<Figure size 640x480 with 16 Axes>"
            ],
            "image/png": "[encoded data removed]"
          },
          "metadata": {}
        }
      ]
    },
    {
      "cell_type": "code",
      "metadata": {
        "id": "mnk3XXO-WXJ0"
      },
      "source": [
        "#Create the neural network\n",
        "import torch.nn as nn\n",
        "import torch.nn.functional as F\n",
        "import torch.optim as optim\n",
        "\n",
        "class Net(nn.Module):\n",
        "  def __init__(self):\n",
        "    super(Net, self).__init__()\n",
        "    self.conv1 = nn.Conv2d(1, 16, kernel_size=3, padding=1)\n",
        "    self.conv2 = nn.Conv2d(16, 32, kernel_size=3, padding=1)\n",
        "    self.conv3 = nn.Conv2d(32, 64, kernel_size=3)\n",
        "    self.fc1 = nn.Linear(5*5*64, 256)\n",
        "    self.fc2 = nn.Linear(256,10)\n",
        "\n",
        "  def forward(self, x):\n",
        "    # x es 28 x 28\n",
        "    x = F.relu(F.max_pool2d(self.conv1(x), 2))\n",
        "    x = F.relu(F.max_pool2d(self.conv2(x), 2))\n",
        "    x = F.relu(self.conv3(x))\n",
        "    x = x.view(-1, 5*5*64)\n",
        "    x = F.relu(self.fc1(x))\n",
        "    x = self.fc2(x)\n",
        "    return F.log_softmax(x)\n",
        "\n",
        "network = Net()\n",
        "optimizer = optim.SGD(network.parameters(), lr=learning_rate, momentum=momentum)\n",
        "\n",
        "network = network.to(device)"
      ],
      "execution_count": 5,
      "outputs": []
    },
    {
      "cell_type": "code",
      "metadata": {
        "id": "_hX18k41fVXy",
        "outputId": "f7b4c03f-4ab8-4428-f4d3-f099b2094ee6",
        "colab": {
          "base_uri": "https://localhost:8080/"
        }
      },
      "source": [
        "import torchsummary as ts\n",
        "\n",
        "print(network)\n",
        "ts.summary(network.to(device), (1, 28, 28), device='cuda')"
      ],
      "execution_count": 6,
      "outputs": [
        {
          "output_type": "stream",
          "name": "stdout",
          "text": [
            "Net(\n",
            "  (conv1): Conv2d(1, 16, kernel_size=(3, 3), stride=(1, 1), padding=(1, 1))\n",
            "  (conv2): Conv2d(16, 32, kernel_size=(3, 3), stride=(1, 1), padding=(1, 1))\n",
            "  (conv3): Conv2d(32, 64, kernel_size=(3, 3), stride=(1, 1))\n",
            "  (fc1): Linear(in_features=1600, out_features=256, bias=True)\n",
            "  (fc2): Linear(in_features=256, out_features=10, bias=True)\n",
            ")\n",
            "----------------------------------------------------------------\n",
            "        Layer (type)               Output Shape         Param #\n",
            "================================================================\n",
            "            Conv2d-1           [-1, 16, 28, 28]             160\n",
            "            Conv2d-2           [-1, 32, 14, 14]           4,640\n",
            "            Conv2d-3             [-1, 64, 5, 5]          18,496\n",
            "            Linear-4                  [-1, 256]         409,856\n",
            "            Linear-5                   [-1, 10]           2,570\n",
            "================================================================\n",
            "Total params: 435,722\n",
            "Trainable params: 435,722\n",
            "Non-trainable params: 0\n",
            "----------------------------------------------------------------\n",
            "Input size (MB): 0.00\n",
            "Forward/backward pass size (MB): 0.16\n",
            "Params size (MB): 1.66\n",
            "Estimated Total Size (MB): 1.82\n",
            "----------------------------------------------------------------\n"
          ]
        },
        {
          "output_type": "stream",
          "name": "stderr",
          "text": [
            "<ipython-input-5-d86eca8b8f52>:23: UserWarning: Implicit dimension choice for log_softmax has been deprecated. Change the call to include dim=X as an argument.\n",
            "  return F.log_softmax(x)\n"
          ]
        }
      ]
    },
    {
      "cell_type": "code",
      "metadata": {
        "id": "g_tiT29LX12_"
      },
      "source": [
        "train_losses = []\n",
        "train_counter = []\n",
        "test_losses = []\n",
        "\n",
        "test_counter = [i*len(train_loader.dataset) for i in range(num_epochs+1)]\n",
        "\n",
        "#Function to train one epoch\n",
        "def train(network, optimizer,  epoch):\n",
        "  network.train() #Modo entrenamiento\n",
        "  for batchId, (data, target) in enumerate(train_loader): #Iterate over batches\n",
        "    data = data.to(device)\n",
        "    target = target.to(device)\n",
        "\n",
        "    #Feedforward pass\n",
        "    optimizer.zero_grad()\n",
        "    output = network(data)\n",
        "    loss = F.nll_loss(output, target)\n",
        "    loss.backward()\n",
        "    optimizer.step()\n",
        "\n",
        "    if batchId % log_interval == 0:\n",
        "      print('Train epoch: {} [{}/{} ({:.0f}%)]\\tLoss: {:.6f}'.format(epoch, batchId*len(data), len(train_loader.dataset), 100.*batchId/len(train_loader), loss.item()))\n",
        "      train_losses.append(loss.item())\n",
        "      train_counter.append((batchId*64) + ((epoch-1)*len(train_loader.dataset)))\n",
        "      torch.save(network.state_dict(),'model.pth')\n",
        "      torch.save(optimizer.state_dict(), 'optimizer.pth')\n",
        "\n",
        "\n",
        "#Testing\n",
        "def test(network):\n",
        "  network.eval() #Test mode\n",
        "  test_loss = 0\n",
        "  correct = 0\n",
        "  with torch.no_grad():\n",
        "    for data, target in test_loader:\n",
        "      data = data.to(device)\n",
        "      target = target.to(device)\n",
        "      output = network(data)\n",
        "      test_loss += F.nll_loss(output, target, size_average=False).item()\n",
        "      pred = output.data.max(1, keepdim=True)[1]\n",
        "      correct += pred.eq(target.data.view_as(pred)).sum()\n",
        "  length = len(test_loader.dataset)\n",
        "  test_loss /= length\n",
        "  test_losses.append(test_loss)\n",
        "  print('\\nTest set: Avg. Loss: {:.4f}, Accuracy: {}/{} ({:.0f}%), Error: {:.3f}% \\n'.format(test_loss, correct, len(test_loader.dataset), 100.*correct/len(test_loader.dataset), 100.*(length-correct)/length))"
      ],
      "execution_count": 7,
      "outputs": []
    },
    {
      "cell_type": "code",
      "metadata": {
        "id": "I7X_eHKcYFSZ",
        "outputId": "2edcd264-12dc-4508-c756-5db7dbfae5ed",
        "colab": {
          "base_uri": "https://localhost:8080/"
        }
      },
      "source": [
        "test(network)\n",
        "for epoch in range(1, num_epochs + 1):\n",
        "  train(network, optimizer, epoch)\n",
        "  test(network)"
      ],
      "execution_count": 8,
      "outputs": [
        {
          "output_type": "stream",
          "name": "stderr",
          "text": [
            "<ipython-input-5-d86eca8b8f52>:23: UserWarning: Implicit dimension choice for log_softmax has been deprecated. Change the call to include dim=X as an argument.\n",
            "  return F.log_softmax(x)\n",
            "/usr/local/lib/python3.10/dist-packages/torch/nn/_reduction.py:42: UserWarning: size_average and reduce args will be deprecated, please use reduction='sum' instead.\n",
            "  warnings.warn(warning.format(ret))\n"
          ]
        },
        {
          "output_type": "stream",
          "name": "stdout",
          "text": [
            "\n",
            "Test set: Avg. Loss: 2.2999, Accuracy: 1146/10000 (11%), Error: 88.540% \n",
            "\n",
            "Train epoch: 1 [0/60000 (0%)]\tLoss: 2.293550\n",
            "Train epoch: 1 [6400/60000 (11%)]\tLoss: 2.288624\n",
            "Train epoch: 1 [12800/60000 (21%)]\tLoss: 2.269508\n",
            "Train epoch: 1 [19200/60000 (32%)]\tLoss: 2.200689\n",
            "Train epoch: 1 [25600/60000 (43%)]\tLoss: 1.975363\n",
            "Train epoch: 1 [32000/60000 (53%)]\tLoss: 0.968386\n",
            "Train epoch: 1 [38400/60000 (64%)]\tLoss: 0.680243\n",
            "Train epoch: 1 [44800/60000 (75%)]\tLoss: 0.491299\n",
            "Train epoch: 1 [51200/60000 (85%)]\tLoss: 0.339373\n",
            "Train epoch: 1 [57600/60000 (96%)]\tLoss: 0.246778\n",
            "\n",
            "Test set: Avg. Loss: 0.3074, Accuracy: 9091/10000 (91%), Error: 9.090% \n",
            "\n",
            "Train epoch: 2 [0/60000 (0%)]\tLoss: 0.253580\n",
            "Train epoch: 2 [6400/60000 (11%)]\tLoss: 0.164890\n",
            "Train epoch: 2 [12800/60000 (21%)]\tLoss: 0.154954\n",
            "Train epoch: 2 [19200/60000 (32%)]\tLoss: 0.137699\n",
            "Train epoch: 2 [25600/60000 (43%)]\tLoss: 0.302968\n",
            "Train epoch: 2 [32000/60000 (53%)]\tLoss: 0.154324\n",
            "Train epoch: 2 [38400/60000 (64%)]\tLoss: 0.131498\n",
            "Train epoch: 2 [44800/60000 (75%)]\tLoss: 0.163287\n",
            "Train epoch: 2 [51200/60000 (85%)]\tLoss: 0.146066\n",
            "Train epoch: 2 [57600/60000 (96%)]\tLoss: 0.065950\n",
            "\n",
            "Test set: Avg. Loss: 0.1459, Accuracy: 9550/10000 (96%), Error: 4.500% \n",
            "\n",
            "Train epoch: 3 [0/60000 (0%)]\tLoss: 0.083503\n",
            "Train epoch: 3 [6400/60000 (11%)]\tLoss: 0.061823\n",
            "Train epoch: 3 [12800/60000 (21%)]\tLoss: 0.174235\n",
            "Train epoch: 3 [19200/60000 (32%)]\tLoss: 0.222143\n",
            "Train epoch: 3 [25600/60000 (43%)]\tLoss: 0.271822\n",
            "Train epoch: 3 [32000/60000 (53%)]\tLoss: 0.206681\n",
            "Train epoch: 3 [38400/60000 (64%)]\tLoss: 0.103391\n",
            "Train epoch: 3 [44800/60000 (75%)]\tLoss: 0.137241\n",
            "Train epoch: 3 [51200/60000 (85%)]\tLoss: 0.072329\n",
            "Train epoch: 3 [57600/60000 (96%)]\tLoss: 0.080791\n",
            "\n",
            "Test set: Avg. Loss: 0.1039, Accuracy: 9661/10000 (97%), Error: 3.390% \n",
            "\n",
            "Train epoch: 4 [0/60000 (0%)]\tLoss: 0.080355\n",
            "Train epoch: 4 [6400/60000 (11%)]\tLoss: 0.055859\n",
            "Train epoch: 4 [12800/60000 (21%)]\tLoss: 0.091039\n",
            "Train epoch: 4 [19200/60000 (32%)]\tLoss: 0.222629\n",
            "Train epoch: 4 [25600/60000 (43%)]\tLoss: 0.244988\n",
            "Train epoch: 4 [32000/60000 (53%)]\tLoss: 0.204845\n",
            "Train epoch: 4 [38400/60000 (64%)]\tLoss: 0.162820\n",
            "Train epoch: 4 [44800/60000 (75%)]\tLoss: 0.112245\n",
            "Train epoch: 4 [51200/60000 (85%)]\tLoss: 0.104909\n",
            "Train epoch: 4 [57600/60000 (96%)]\tLoss: 0.209472\n",
            "\n",
            "Test set: Avg. Loss: 0.0827, Accuracy: 9744/10000 (97%), Error: 2.560% \n",
            "\n",
            "Train epoch: 5 [0/60000 (0%)]\tLoss: 0.027544\n",
            "Train epoch: 5 [6400/60000 (11%)]\tLoss: 0.016089\n",
            "Train epoch: 5 [12800/60000 (21%)]\tLoss: 0.103885\n",
            "Train epoch: 5 [19200/60000 (32%)]\tLoss: 0.154380\n",
            "Train epoch: 5 [25600/60000 (43%)]\tLoss: 0.093859\n",
            "Train epoch: 5 [32000/60000 (53%)]\tLoss: 0.101529\n",
            "Train epoch: 5 [38400/60000 (64%)]\tLoss: 0.087530\n",
            "Train epoch: 5 [44800/60000 (75%)]\tLoss: 0.080160\n",
            "Train epoch: 5 [51200/60000 (85%)]\tLoss: 0.017882\n",
            "Train epoch: 5 [57600/60000 (96%)]\tLoss: 0.121079\n",
            "\n",
            "Test set: Avg. Loss: 0.0755, Accuracy: 9762/10000 (98%), Error: 2.380% \n",
            "\n"
          ]
        }
      ]
    },
    {
      "cell_type": "code",
      "metadata": {
        "id": "L86v0cdZeEoA",
        "outputId": "27af15b4-3e6d-414a-98a7-cc35188375de",
        "colab": {
          "base_uri": "https://localhost:8080/",
          "height": 430
        }
      },
      "source": [
        "plt.figure()\n",
        "plt.plot(train_counter, train_losses, color='blue')\n",
        "plt.scatter(test_counter, test_losses, color='red')\n",
        "plt.show()"
      ],
      "execution_count": 9,
      "outputs": [
        {
          "output_type": "display_data",
          "data": {
            "text/plain": [
              "<Figure size 640x480 with 1 Axes>"
            ],
            "image/png": "[encoded data removed]"
          },
          "metadata": {}
        }
      ]
    },
    {
      "cell_type": "code",
      "metadata": {
        "id": "IZo3uXUCVBLP",
        "outputId": "c09ccb03-ca10-498a-ecc1-8a04bd1300ac",
        "colab": {
          "base_uri": "https://localhost:8080/"
        }
      },
      "source": [
        "with torch.no_grad():\n",
        "  output = network(exampleData.to(device))"
      ],
      "execution_count": 10,
      "outputs": [
        {
          "output_type": "stream",
          "name": "stderr",
          "text": [
            "<ipython-input-5-d86eca8b8f52>:23: UserWarning: Implicit dimension choice for log_softmax has been deprecated. Change the call to include dim=X as an argument.\n",
            "  return F.log_softmax(x)\n"
          ]
        }
      ]
    },
    {
      "cell_type": "code",
      "metadata": {
        "id": "wFOOO7bjVR1Y",
        "outputId": "9e960fb4-be6f-4eba-e813-668865d753ae",
        "colab": {
          "base_uri": "https://localhost:8080/",
          "height": 438
        }
      },
      "source": [
        "fig = plt.figure()\n",
        "for i in range(6):\n",
        "  plt.subplot(2,3,i+1)\n",
        "  plt.tight_layout()\n",
        "  plt.imshow(exampleData[i][0], cmap='gray', interpolation='none')\n",
        "  plt.title(\"Prediction: {}\".format(\n",
        "    output.data.max(1, keepdim=True)[1][i].item()))\n",
        "  plt.xticks([])\n",
        "  plt.yticks([])\n",
        "plt.show()"
      ],
      "execution_count": 11,
      "outputs": [
        {
          "output_type": "display_data",
          "data": {
            "text/plain": [
              "<Figure size 640x480 with 6 Axes>"
            ],
            "image/png": "[encoded data removed]"
          },
          "metadata": {}
        }
      ]
    },
    {
      "cell_type": "code",
      "metadata": {
        "id": "ltoqUiU8VbBn"
      },
      "source": [
        "continued_network = Net()\n",
        "network_state_dict = torch.load('model.pth')\n",
        "continued_network.load_state_dict(network_state_dict)\n",
        "continued_network = continued_network.to(device)\n",
        "\n",
        "continued_optimizer = optim.SGD(continued_network.parameters(), lr=0.0005, momentum=momentum)\n",
        "optimizer_state_dict=torch.load('optimizer.pth')\n",
        "continued_optimizer.load_state_dict(optimizer_state_dict)"
      ],
      "execution_count": 12,
      "outputs": []
    },
    {
      "cell_type": "code",
      "metadata": {
        "id": "_BxNoMWMY7x8",
        "outputId": "9354e775-ec3d-461c-deff-e816d7e5e122",
        "colab": {
          "base_uri": "https://localhost:8080/"
        }
      },
      "source": [
        "for i in range(6, 10):\n",
        "  test_counter.append(i*len(train_loader.dataset))\n",
        "  train(continued_network, continued_optimizer, i)\n",
        "  test(continued_network)"
      ],
      "execution_count": 13,
      "outputs": [
        {
          "output_type": "stream",
          "name": "stderr",
          "text": [
            "<ipython-input-5-d86eca8b8f52>:23: UserWarning: Implicit dimension choice for log_softmax has been deprecated. Change the call to include dim=X as an argument.\n",
            "  return F.log_softmax(x)\n"
          ]
        },
        {
          "output_type": "stream",
          "name": "stdout",
          "text": [
            "Train epoch: 6 [0/60000 (0%)]\tLoss: 0.043188\n",
            "Train epoch: 6 [6400/60000 (11%)]\tLoss: 0.072591\n",
            "Train epoch: 6 [12800/60000 (21%)]\tLoss: 0.073664\n",
            "Train epoch: 6 [19200/60000 (32%)]\tLoss: 0.093695\n",
            "Train epoch: 6 [25600/60000 (43%)]\tLoss: 0.042480\n",
            "Train epoch: 6 [32000/60000 (53%)]\tLoss: 0.040875\n",
            "Train epoch: 6 [38400/60000 (64%)]\tLoss: 0.073681\n",
            "Train epoch: 6 [44800/60000 (75%)]\tLoss: 0.063298\n",
            "Train epoch: 6 [51200/60000 (85%)]\tLoss: 0.073049\n",
            "Train epoch: 6 [57600/60000 (96%)]\tLoss: 0.066391\n",
            "\n",
            "Test set: Avg. Loss: 0.0641, Accuracy: 9810/10000 (98%), Error: 1.900% \n",
            "\n",
            "Train epoch: 7 [0/60000 (0%)]\tLoss: 0.088970\n",
            "Train epoch: 7 [6400/60000 (11%)]\tLoss: 0.063292\n",
            "Train epoch: 7 [12800/60000 (21%)]\tLoss: 0.080880\n",
            "Train epoch: 7 [19200/60000 (32%)]\tLoss: 0.047629\n",
            "Train epoch: 7 [25600/60000 (43%)]\tLoss: 0.044630\n",
            "Train epoch: 7 [32000/60000 (53%)]\tLoss: 0.058307\n",
            "Train epoch: 7 [38400/60000 (64%)]\tLoss: 0.021160\n",
            "Train epoch: 7 [44800/60000 (75%)]\tLoss: 0.077753\n",
            "Train epoch: 7 [51200/60000 (85%)]\tLoss: 0.137252\n",
            "Train epoch: 7 [57600/60000 (96%)]\tLoss: 0.120859\n",
            "\n",
            "Test set: Avg. Loss: 0.0597, Accuracy: 9818/10000 (98%), Error: 1.820% \n",
            "\n",
            "Train epoch: 8 [0/60000 (0%)]\tLoss: 0.075857\n",
            "Train epoch: 8 [6400/60000 (11%)]\tLoss: 0.127954\n",
            "Train epoch: 8 [12800/60000 (21%)]\tLoss: 0.037783\n",
            "Train epoch: 8 [19200/60000 (32%)]\tLoss: 0.025724\n",
            "Train epoch: 8 [25600/60000 (43%)]\tLoss: 0.099669\n",
            "Train epoch: 8 [32000/60000 (53%)]\tLoss: 0.037831\n",
            "Train epoch: 8 [38400/60000 (64%)]\tLoss: 0.016630\n",
            "Train epoch: 8 [44800/60000 (75%)]\tLoss: 0.022784\n",
            "Train epoch: 8 [51200/60000 (85%)]\tLoss: 0.061294\n",
            "Train epoch: 8 [57600/60000 (96%)]\tLoss: 0.055223\n",
            "\n",
            "Test set: Avg. Loss: 0.0522, Accuracy: 9829/10000 (98%), Error: 1.710% \n",
            "\n",
            "Train epoch: 9 [0/60000 (0%)]\tLoss: 0.025768\n",
            "Train epoch: 9 [6400/60000 (11%)]\tLoss: 0.018397\n",
            "Train epoch: 9 [12800/60000 (21%)]\tLoss: 0.253012\n",
            "Train epoch: 9 [19200/60000 (32%)]\tLoss: 0.164306\n",
            "Train epoch: 9 [25600/60000 (43%)]\tLoss: 0.119986\n",
            "Train epoch: 9 [32000/60000 (53%)]\tLoss: 0.022779\n",
            "Train epoch: 9 [38400/60000 (64%)]\tLoss: 0.109766\n",
            "Train epoch: 9 [44800/60000 (75%)]\tLoss: 0.012789\n",
            "Train epoch: 9 [51200/60000 (85%)]\tLoss: 0.005356\n",
            "Train epoch: 9 [57600/60000 (96%)]\tLoss: 0.025678\n",
            "\n",
            "Test set: Avg. Loss: 0.0479, Accuracy: 9845/10000 (98%), Error: 1.550% \n",
            "\n"
          ]
        }
      ]
    },
    {
      "cell_type": "code",
      "metadata": {
        "id": "lEJTGAaMZJ_a",
        "outputId": "ac193bc5-bbec-46ac-86a1-a57cd4e18136",
        "colab": {
          "base_uri": "https://localhost:8080/",
          "height": 465
        }
      },
      "source": [
        "print(len(test_counter))\n",
        "print(len(test_losses))\n",
        "\n",
        "plt.figure()\n",
        "plt.plot(train_counter, train_losses, color='blue')\n",
        "plt.scatter(test_counter, test_losses, color='red')\n",
        "plt.show()"
      ],
      "execution_count": 14,
      "outputs": [
        {
          "output_type": "stream",
          "name": "stdout",
          "text": [
            "10\n",
            "10\n"
          ]
        },
        {
          "output_type": "display_data",
          "data": {
            "text/plain": [
              "<Figure size 640x480 with 1 Axes>"
            ],
            "image/png": "[encoded data removed]"
          },
          "metadata": {}
        }
      ]
    },
    {
      "cell_type": "code",
      "metadata": {
        "id": "vCIZBZQpaMgz",
        "outputId": "6b3a12a1-42b2-4cd7-d007-b9c9e2331f8b",
        "colab": {
          "base_uri": "https://localhost:8080/"
        }
      },
      "source": [
        "print(network)"
      ],
      "execution_count": 15,
      "outputs": [
        {
          "output_type": "stream",
          "name": "stdout",
          "text": [
            "Net(\n",
            "  (conv1): Conv2d(1, 16, kernel_size=(3, 3), stride=(1, 1), padding=(1, 1))\n",
            "  (conv2): Conv2d(16, 32, kernel_size=(3, 3), stride=(1, 1), padding=(1, 1))\n",
            "  (conv3): Conv2d(32, 64, kernel_size=(3, 3), stride=(1, 1))\n",
            "  (fc1): Linear(in_features=1600, out_features=256, bias=True)\n",
            "  (fc2): Linear(in_features=256, out_features=10, bias=True)\n",
            ")\n"
          ]
        }
      ]
    },
    {
      "cell_type": "code",
      "metadata": {
        "id": "MfEhoio9HLro"
      },
      "source": [
        "#Function to get predictions over a dataset\n",
        "\n",
        "def get_predictions(model, iterator, device):\n",
        "\n",
        "    #For prediction, we also deactivate training features\n",
        "    model.eval()\n",
        "\n",
        "    images = []\n",
        "    labels = []\n",
        "    probs = []\n",
        "\n",
        "    with torch.no_grad():\n",
        "        for (data, target) in iterator:\n",
        "            data = data.to(device)\n",
        "            y_pred = model(data)\n",
        "\n",
        "            #Remember that our network does not apply the softmax\n",
        "            #We have to do it explicitly for prediction\n",
        "            #y_prob = F.softmax(y_pred, dim = -1)\n",
        "            top_pred = y_pred.argmax(1, keepdim = True)\n",
        "\n",
        "            #We store the images, their labels and the pdf of each sample\n",
        "            #images.append(x.cpu())\n",
        "            labels.append(target.cpu())\n",
        "            probs.append(y_pred.cpu())\n",
        "\n",
        "    #images = torch.cat(images, dim = 0)\n",
        "    labels = torch.cat(labels, dim = 0)\n",
        "    probs = torch.cat(probs, dim = 0)\n",
        "\n",
        "    return labels, probs"
      ],
      "execution_count": 16,
      "outputs": []
    },
    {
      "cell_type": "code",
      "metadata": {
        "id": "NUc2r_wxEHu2",
        "outputId": "93537467-2d32-4852-99c6-db01f8f02701",
        "colab": {
          "base_uri": "https://localhost:8080/"
        }
      },
      "source": [
        "#Comute predictions and the label with the maximum probability\n",
        "labels, probs = get_predictions(continued_network, test_loader, device)\n",
        "\n",
        "pred_labels = torch.argmax(probs, 1)"
      ],
      "execution_count": 17,
      "outputs": [
        {
          "output_type": "stream",
          "name": "stderr",
          "text": [
            "<ipython-input-5-d86eca8b8f52>:23: UserWarning: Implicit dimension choice for log_softmax has been deprecated. Change the call to include dim=X as an argument.\n",
            "  return F.log_softmax(x)\n"
          ]
        }
      ]
    },
    {
      "cell_type": "code",
      "metadata": {
        "id": "M1LiQFyaEcHn",
        "outputId": "e971fe59-55cd-40f5-940a-f9e1c39d9e61",
        "colab": {
          "base_uri": "https://localhost:8080/",
          "height": 815
        }
      },
      "source": [
        "from sklearn import metrics\n",
        "\n",
        "#Plot a confussion matrix\n",
        "def plot_confusion_matrix(labels, pred_labels):\n",
        "\n",
        "    fig = plt.figure(figsize = (10, 10));\n",
        "    ax = fig.add_subplot(1, 1, 1);\n",
        "    cm = metrics.confusion_matrix(labels, pred_labels);\n",
        "    cm = metrics.ConfusionMatrixDisplay(cm);\n",
        "    cm.plot(values_format = 'd', cmap = 'Blues', ax = ax)\n",
        "\n",
        "plot_confusion_matrix(labels, pred_labels)"
      ],
      "execution_count": 18,
      "outputs": [
        {
          "output_type": "display_data",
          "data": {
            "text/plain": [
              "<Figure size 1000x1000 with 2 Axes>"
            ],
            "image/png": "[encoded data removed]"
          },
          "metadata": {}
        }
      ]
    },
    {
      "cell_type": "code",
      "metadata": {
        "id": "oB0dHscIEomb",
        "outputId": "1b60ca08-7d62-47d2-fc54-ac7a98ff4a1c",
        "colab": {
          "base_uri": "https://localhost:8080/"
        }
      },
      "source": [
        "print(metrics.classification_report(labels, pred_labels, digits=6))\n",
        "\n"
      ],
      "execution_count": 19,
      "outputs": [
        {
          "output_type": "stream",
          "name": "stdout",
          "text": [
            "              precision    recall  f1-score   support\n",
            "\n",
            "           0   0.974026  0.994898  0.984351       980\n",
            "           1   0.985217  0.998238  0.991685      1135\n",
            "           2   0.975120  0.987403  0.981223      1032\n",
            "           3   0.989980  0.978218  0.984064      1010\n",
            "           4   0.985859  0.993890  0.989858       982\n",
            "           5   0.982202  0.989910  0.986041       892\n",
            "           6   0.993664  0.982255  0.987927       958\n",
            "           7   0.987267  0.980545  0.983895      1028\n",
            "           8   0.992608  0.965092  0.978657       974\n",
            "           9   0.980040  0.973241  0.976629      1009\n",
            "\n",
            "    accuracy                       0.984500     10000\n",
            "   macro avg   0.984598  0.984369  0.984433     10000\n",
            "weighted avg   0.984571  0.984500  0.984485     10000\n",
            "\n"
          ]
        }
      ]
    },
    {
      "cell_type": "code",
      "source": [],
      "metadata": {
        "id": "nwaafV0qEt7Q"
      },
      "execution_count": 19,
      "outputs": []
    }
  ]
}